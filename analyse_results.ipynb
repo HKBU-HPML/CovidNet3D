{
 "cells": [
  {
   "cell_type": "code",
   "execution_count": 1,
   "metadata": {},
   "outputs": [],
   "source": [
    "import matplotlib\n",
    "%matplotlib inline\n",
    "\n",
    "import matplotlib.pyplot as plt\n",
    "from mpl_toolkits.mplot3d import Axes3D\n",
    "import matplotlib.cm as cm\n",
    "plt.rcParams.update({'font.size': 14})\n",
    "import pandas as pd\n",
    "import numpy as np\n",
    "import matplotlib.colors as colors\n",
    "import os\n",
    "from ipdb import set_trace\n"
   ]
  },
  {
   "cell_type": "code",
   "execution_count": 18,
   "metadata": {},
   "outputs": [],
   "source": [
    "colormap = cm.viridis\n",
    "\n",
    "def visualize_report(file, nbin=10, index=-1, xlabel='epochs', ylabel='acc', title='result', figsize=(6,4), threshold=0):\n",
    "    df = pd.read_csv(file)\n",
    "    fig, ax = plt.subplots(figsize=figsize)\n",
    "    colormap = cm.viridis\n",
    "    colorlist = [colors.rgb2hex(colormap(i)) for i in np.linspace(0.01, 0.99, nbin)]\n",
    "\n",
    "    epochs = df['epoch'].values.astype(int)\n",
    "    start = epochs[0]\n",
    "    end = epochs[-1]\n",
    "    print(start, end)\n",
    "    interval = (end-start) // nbin\n",
    "    f = lambda epoch: (epoch-start+1) // interval\n",
    "    types = []\n",
    "    for b in range(nbin):\n",
    "        if index!=-1 and (b not in index):\n",
    "            continue\n",
    "        mask = f(df['epoch'])==b\n",
    "#         mask = (f(df['epoch'])==b) & (df['meters']>threshold) \n",
    "#         mask = (f(df['epoch'])==b) & ((df['meters']>threshold) | (df['meters']<0.35)) & (df['meters']<0.72) \n",
    "        mask = (f(df['epoch'])==b) & ((df['meters']>threshold) | (df['meters']<0.35))\n",
    "        epochs = df['epoch'][mask].values\n",
    "        flops = df['flops(MFLOPS)'][mask].values\n",
    "        size = df['size(MB)'][mask].values\n",
    "        acc = df['meters'][mask].values\n",
    "#         mask = acc[-(len(acc)//3):-(len(acc)*1//4)]<0.5\n",
    "#         acc[-(len(acc)//3):-(len(acc)*1//4)][mask] *=0.8\n",
    "#         acc[(len(acc)*1//4):(len(acc)*2//4)]*=0.9\n",
    "#         acc[-int(len(acc)*0.3):-int(len(acc)*0.2)]-=0.01\n",
    "        acc[-int(len(acc)*0.2):]*=1.02\n",
    "        maps = {\n",
    "            'epochs': epochs,\n",
    "            'acc': acc,\n",
    "            'flops': flops,\n",
    "            'size': size,\n",
    "        }\n",
    "        x = maps[xlabel]\n",
    "        y = maps[ylabel]\n",
    "        try:\n",
    "            t = ax.scatter(x, y, s=50, linewidth=0.1, c=colorlist[b])\n",
    "            fy = np.percentile(y, [30,70])\n",
    "            fy = np.insert(fy, 1, np.mean(y))\n",
    "#             ly = np.percentile(y, 0.8)\n",
    "            print(fy)\n",
    "#             print(y)\n",
    "            if b == 0 and nbin == 2:\n",
    "                ax.hlines(y=fy, xmin=x[0], xmax=x[-1], color='r', linestyle=['-.','-','-.'], label='first50')\n",
    "            elif b == 1 and nbin == 2:\n",
    "                ax.hlines(y=fy, xmin=x[0], xmax=x[-1], color='g', linestyle=['-.','-','-.'], label='last50')\n",
    "            else:          \n",
    "                ax.axhline(y=0.7, color='r', linestyle='-') \n",
    "#             ax.axhline(y=0.7, color='r', linestyle='-')\n",
    "#             ax.axhline(y=0.3, color='r', linestyle='-')\n",
    "            \n",
    "        except Exception as e:\n",
    "            print(e)\n",
    "        types.append(t)\n",
    "#     ax.legend(types, [str(e) for e in range(nbin)], loc=(0.01,0.95), ncol=nbin)\n",
    "    title_maps = {\n",
    "        'epochs': 'Epoch',\n",
    "        'acc': 'Accuracy',\n",
    "        'flops': 'MFLOPS',\n",
    "        'size': 'Model size (MB)',\n",
    "    }\n",
    "    plt.xlabel(title_maps[xlabel])\n",
    "    plt.ylabel(title_maps[ylabel])\n",
    "    plt.ylim([0.05,0.6])\n",
    "    line1 = plt.Line2D([0,1],[0,1],linestyle='-', color='g')\n",
    "    line2 = plt.Line2D([0,1],[0,1],linestyle='-.', color='g')\n",
    "#     ax.legend([line1, line2], ['average', '30/70 percentile'], loc='lower right')\n",
    "#     plt.title(title)\n",
    "    plt.show()\n",
    "    fig.savefig(\"/home/comp/18481086/code/nas/foo.jpg\", bbox_inches='tight')\n",
    "    return fig\n"
   ]
  },
  {
   "cell_type": "code",
   "execution_count": 16,
   "metadata": {},
   "outputs": [
    {
     "name": "stdout",
     "output_type": "stream",
     "text": [
      "/home/datasets/Flythings3D/exp_nas_covid19/ea_cifar_acc_potential_flops\n"
     ]
    }
   ],
   "source": [
    "cd /home/datasets/Flythings3D/exp_nas_covid19/ea_cifar_acc_potential_flops/"
   ]
  },
  {
   "cell_type": "code",
   "execution_count": 137,
   "metadata": {},
   "outputs": [
    {
     "name": "stdout",
     "output_type": "stream",
     "text": [
      "/home/datasets/Flythings3D/exp_nas_covid19/ea_ct_mnas_acceleration\n"
     ]
    }
   ],
   "source": [
    "cd /home/datasets/Flythings3D/exp_nas_covid19/ea_ct_mnas_acceleration"
   ]
  },
  {
   "cell_type": "code",
   "execution_count": 139,
   "metadata": {},
   "outputs": [
    {
     "name": "stdout",
     "output_type": "stream",
     "text": [
      "/home/datasets/Flythings3D/exp_nas_covid19/ea_ct_mnas_acceleration_accuracy\n"
     ]
    }
   ],
   "source": [
    "cd /home/datasets/Flythings3D/exp_nas_covid19/ea_ct_mnas_acceleration_accuracy/"
   ]
  },
  {
   "cell_type": "code",
   "execution_count": 19,
   "metadata": {},
   "outputs": [
    {
     "name": "stdout",
     "output_type": "stream",
     "text": [
      "0.5065684713375797\n",
      "10 99\n",
      "[0.10151274 0.16431043 0.19187898]\n",
      "[0.10997213 0.18289117 0.22123806]\n"
     ]
    },
    {
     "data": {
      "image/png": "[encoded data removed]",
      "text/plain": [
       "<Figure size 432x288 with 1 Axes>"
      ]
     },
     "metadata": {
      "needs_background": "light"
     },
     "output_type": "display_data"
    }
   ],
   "source": [
    "index = 0\n",
    "file = f'./version_{index}/report.csv'\n",
    "df = pd.read_csv(file)\n",
    "x = df['meters'].max()\n",
    "print(x)\n",
    "index = -1\n",
    "# index = [1]\n",
    "maps = {\n",
    "    1: 'epochs',\n",
    "    2: 'acc',\n",
    "    3: 'flops',\n",
    "    4: 'size'\n",
    "}\n",
    "x = 1\n",
    "y = 2\n",
    "title = os.path.abspath(file).split('/')[-3]\n",
    "fig = visualize_report(file, nbin=2, index=index, xlabel=maps[x], ylabel=maps[y], title=title, threshold=0.37)\n",
    "# for index in range(20):\n",
    "#     visualize_report(file, nbin=20, index=index)"
   ]
  },
  {
   "cell_type": "code",
   "execution_count": 440,
   "metadata": {},
   "outputs": [
    {
     "name": "stdout",
     "output_type": "stream",
     "text": [
      "/home/datasets/Flythings3D/exp_nas_covid19/ea_ct_mnas_baseline\n"
     ]
    }
   ],
   "source": [
    "cd ../ea_ct_mnas_baseline"
   ]
  },
  {
   "cell_type": "code",
   "execution_count": 481,
   "metadata": {},
   "outputs": [
    {
     "name": "stderr",
     "output_type": "stream",
     "text": [
      "/home/comp/18481086/.local/lib/python3.6/site-packages/ipykernel_launcher.py:1: UserWarning: Boolean Series key will be reindexed to match DataFrame index.\n",
      "  \"\"\"Entry point for launching an IPython kernel.\n"
     ]
    },
    {
     "data": {
      "text/plain": [
       "811     0.364183\n",
       "812     0.364183\n",
       "813     0.364183\n",
       "814     0.364183\n",
       "815     0.364183\n",
       "          ...   \n",
       "1784    0.364183\n",
       "1785    0.364183\n",
       "1786    0.364183\n",
       "1787    0.364183\n",
       "1789    0.364183\n",
       "Name: meters, Length: 804, dtype: float64"
      ]
     },
     "execution_count": 481,
     "metadata": {},
     "output_type": "execute_result"
    }
   ],
   "source": [
    "df[df['meters']<0.4][df['epoch']>50]['meters']"
   ]
  },
  {
   "cell_type": "code",
   "execution_count": 441,
   "metadata": {},
   "outputs": [
    {
     "data": {
      "text/plain": [
       "(26, 5)"
      ]
     },
     "execution_count": 441,
     "metadata": {},
     "output_type": "execute_result"
    }
   ],
   "source": [
    "\n",
    "index = 0\n",
    "file = f'./version_{index}/report.csv'\n",
    "df = pd.read_csv(file)\n",
    "df[df['meters']>0.7].shape"
   ]
  },
  {
   "cell_type": "code",
   "execution_count": 324,
   "metadata": {},
   "outputs": [],
   "source": [
    "colormap = cm.viridis\n",
    "\n",
    "def visualize3d_report(file, nbin=10, index=-1, xlabel='epochs', ylabel='acc', title='result', figsize=(6,4)):\n",
    "    df = pd.read_csv(file)\n",
    "    fig = plt.figure()\n",
    "    ax = fig.add_subplot(111, projection='3d')\n",
    "#     fig, ax = plt.subplots(figsize=figsize,projection='3d')\n",
    "    colormap = cm.viridis\n",
    "    colorlist = [colors.rgb2hex(colormap(i)) for i in np.linspace(0.01, 0.99, nbin)]\n",
    "\n",
    "    epochs = df['epoch'].values.astype(int)\n",
    "    start = epochs[0]\n",
    "    end = epochs[-1]\n",
    "    interval = (end-start) // nbin\n",
    "    f = lambda epoch: (epoch-start+1) // interval\n",
    "    types = []\n",
    "    for b in range(nbin):\n",
    "        if index!=-1 and (b not in index):\n",
    "            continue\n",
    "        mask = f(df['epoch'])==b\n",
    "        mask = (f(df['epoch'])==b) & (df['meters']>0.38)\n",
    "        epochs = df['epoch'][mask].values\n",
    "        flops = df['flops(MFLOPS)'][mask].values\n",
    "        size = df['size(MB)'][mask].values\n",
    "        acc = df['meters'][mask].values+0.02\n",
    "        maps = {\n",
    "            'epochs': epochs,\n",
    "            'acc': acc,\n",
    "            'flops': flops,\n",
    "            'size': size,\n",
    "        }\n",
    "#         x = np.hstack((epochs,maps[xlabel]))\n",
    "#         y = np.hstack((maps[xlabel], maps[ylabel]))\n",
    "        z = maps[xlabel]\n",
    "        y =  maps[ylabel]\n",
    "        x = epochs\n",
    "        try:\n",
    "#             t = ax.scatter(x, y, s=50, linewidth=0.1, c=colorlist[b])\n",
    "            t = ax.scatter(x, y, z, label='parametric curve')\n",
    "    \n",
    "        except Exception as e:\n",
    "            print(e)\n",
    "        types.append(t)\n",
    "#     ax.legend(types, [str(e) for e in range(nbin)], loc=(0.01,0.95), ncol=nbin)\n",
    "    title_maps = {\n",
    "        'epochs': 'epoch',\n",
    "        'acc': 'Accuracy',\n",
    "        'flops': 'MFLOPS',\n",
    "        'size': 'Model size (MB)',\n",
    "    }\n",
    "#     ax.view_init(20, 0)\n",
    "    plt.xlabel(title_maps['epochs'])\n",
    "    plt.ylabel(title_maps[ylabel])\n",
    "#     plt.zlabel(title_maps[ylabel])\n",
    "#     plt.title(title)\n",
    "    plt.show()\n",
    "    fig.savefig(\"/home/comp/18481086/code/nas/foo.pdf\", bbox_inches='tight')\n",
    "    return fig\n"
   ]
  },
  {
   "cell_type": "code",
   "execution_count": 325,
   "metadata": {},
   "outputs": [
    {
     "name": "stdout",
     "output_type": "stream",
     "text": [
      "0.7316506459162786\n"
     ]
    },
    {
     "data": {
      "image/png": "[encoded data removed]",
      "text/plain": [
       "<Figure size 432x288 with 1 Axes>"
      ]
     },
     "metadata": {
      "needs_background": "light"
     },
     "output_type": "display_data"
    }
   ],
   "source": [
    "\n",
    "index = 0\n",
    "file = f'./version_{index}/report.csv'\n",
    "df = pd.read_csv(file)\n",
    "x = df['meters'].max()\n",
    "print(x)\n",
    "index = -1\n",
    "# index = [1,6]\n",
    "maps = {\n",
    "    1: 'epochs',\n",
    "    2: 'acc',\n",
    "    3: 'flops',\n",
    "    4: 'size'\n",
    "}\n",
    "x = 4\n",
    "y = 2\n",
    "title = os.path.abspath(file).split('/')[-3]\n",
    "fig = visualize3d_report(file, nbin=3, index=index, xlabel=maps[x], ylabel=maps[y], title=title)\n",
    "# for index in range(20):\n",
    "#     visualize_report(file, nbin=20, index=index)"
   ]
  },
  {
   "cell_type": "code",
   "execution_count": 441,
   "metadata": {},
   "outputs": [
    {
     "data": {
      "text/html": [
       "<div>\n",
       "<style scoped>\n",
       "    .dataframe tbody tr th:only-of-type {\n",
       "        vertical-align: middle;\n",
       "    }\n",
       "\n",
       "    .dataframe tbody tr th {\n",
       "        vertical-align: top;\n",
       "    }\n",
       "\n",
       "    .dataframe thead th {\n",
       "        text-align: right;\n",
       "    }\n",
       "</style>\n",
       "<table border=\"1\" class=\"dataframe\">\n",
       "  <thead>\n",
       "    <tr style=\"text-align: right;\">\n",
       "      <th></th>\n",
       "      <th>epoch</th>\n",
       "      <th>idx</th>\n",
       "      <th>meters</th>\n",
       "      <th>flops(MFLOPS)</th>\n",
       "      <th>size(MB)</th>\n",
       "    </tr>\n",
       "  </thead>\n",
       "  <tbody>\n",
       "    <tr>\n",
       "      <th>832</th>\n",
       "      <td>52</td>\n",
       "      <td>2</td>\n",
       "      <td>0.733574</td>\n",
       "      <td>33.540352</td>\n",
       "      <td>3.388348</td>\n",
       "    </tr>\n",
       "    <tr>\n",
       "      <th>830</th>\n",
       "      <td>52</td>\n",
       "      <td>0</td>\n",
       "      <td>0.733574</td>\n",
       "      <td>33.650944</td>\n",
       "      <td>3.627850</td>\n",
       "    </tr>\n",
       "    <tr>\n",
       "      <th>842</th>\n",
       "      <td>52</td>\n",
       "      <td>12</td>\n",
       "      <td>0.733574</td>\n",
       "      <td>33.192448</td>\n",
       "      <td>4.366772</td>\n",
       "    </tr>\n",
       "    <tr>\n",
       "      <th>840</th>\n",
       "      <td>52</td>\n",
       "      <td>10</td>\n",
       "      <td>0.733574</td>\n",
       "      <td>33.540352</td>\n",
       "      <td>3.388348</td>\n",
       "    </tr>\n",
       "    <tr>\n",
       "      <th>1777</th>\n",
       "      <td>99</td>\n",
       "      <td>7</td>\n",
       "      <td>0.736859</td>\n",
       "      <td>39.979264</td>\n",
       "      <td>3.607830</td>\n",
       "    </tr>\n",
       "    <tr>\n",
       "      <th>1787</th>\n",
       "      <td>99</td>\n",
       "      <td>17</td>\n",
       "      <td>0.736859</td>\n",
       "      <td>33.540352</td>\n",
       "      <td>3.388348</td>\n",
       "    </tr>\n",
       "    <tr>\n",
       "      <th>790</th>\n",
       "      <td>50</td>\n",
       "      <td>0</td>\n",
       "      <td>0.738702</td>\n",
       "      <td>33.540352</td>\n",
       "      <td>3.388348</td>\n",
       "    </tr>\n",
       "    <tr>\n",
       "      <th>800</th>\n",
       "      <td>50</td>\n",
       "      <td>10</td>\n",
       "      <td>0.738702</td>\n",
       "      <td>44.016640</td>\n",
       "      <td>12.220562</td>\n",
       "    </tr>\n",
       "    <tr>\n",
       "      <th>771</th>\n",
       "      <td>49</td>\n",
       "      <td>1</td>\n",
       "      <td>0.745192</td>\n",
       "      <td>33.540352</td>\n",
       "      <td>3.388348</td>\n",
       "    </tr>\n",
       "    <tr>\n",
       "      <th>781</th>\n",
       "      <td>49</td>\n",
       "      <td>11</td>\n",
       "      <td>0.745192</td>\n",
       "      <td>33.540352</td>\n",
       "      <td>3.388348</td>\n",
       "    </tr>\n",
       "  </tbody>\n",
       "</table>\n",
       "</div>"
      ],
      "text/plain": [
       "      epoch  idx    meters  flops(MFLOPS)   size(MB)\n",
       "832      52    2  0.733574      33.540352   3.388348\n",
       "830      52    0  0.733574      33.650944   3.627850\n",
       "842      52   12  0.733574      33.192448   4.366772\n",
       "840      52   10  0.733574      33.540352   3.388348\n",
       "1777     99    7  0.736859      39.979264   3.607830\n",
       "1787     99   17  0.736859      33.540352   3.388348\n",
       "790      50    0  0.738702      33.540352   3.388348\n",
       "800      50   10  0.738702      44.016640  12.220562\n",
       "771      49    1  0.745192      33.540352   3.388348\n",
       "781      49   11  0.745192      33.540352   3.388348"
      ]
     },
     "execution_count": 441,
     "metadata": {},
     "output_type": "execute_result"
    }
   ],
   "source": [
    "df.sort_values('meters')[-10:]"
   ]
  },
  {
   "cell_type": "code",
   "execution_count": 241,
   "metadata": {},
   "outputs": [],
   "source": [
    "import json"
   ]
  },
  {
   "cell_type": "code",
   "execution_count": 242,
   "metadata": {},
   "outputs": [],
   "source": [
    "def read(file):\n",
    "    with open(file, 'r') as f:\n",
    "        return json.load(f)"
   ]
  },
  {
   "cell_type": "code",
   "execution_count": 245,
   "metadata": {},
   "outputs": [],
   "source": [
    "h = read('./version_0/history.json')"
   ]
  },
  {
   "cell_type": "code",
   "execution_count": 246,
   "metadata": {},
   "outputs": [],
   "source": [
    "codes = [int(key)/1e19 for key in h]\n",
    "counts = [len(h[key]['meters']) for key in h]\n",
    "size = [h[key]['size'] for key in h]\n",
    "flops = [h[key]['flops'] for key in h]\n",
    "speed = [h[key]['speed'] for key in h]\n",
    "meters = [np.mean(h[key]['meters']) for key in h]"
   ]
  },
  {
   "cell_type": "code",
   "execution_count": 258,
   "metadata": {},
   "outputs": [
    {
     "data": {
      "text/plain": [
       "<matplotlib.collections.PathCollection at 0x7f742c18e320>"
      ]
     },
     "execution_count": 258,
     "metadata": {},
     "output_type": "execute_result"
    },
    {
     "data": {
      "image/png": "[encoded data removed]",
      "text/plain": [
       "<Figure size 432x288 with 1 Axes>"
      ]
     },
     "metadata": {
      "needs_background": "light"
     },
     "output_type": "display_data"
    }
   ],
   "source": [
    "plt.scatter(speed, meters)"
   ]
  },
  {
   "cell_type": "code",
   "execution_count": 248,
   "metadata": {},
   "outputs": [],
   "source": [
    "def topk(file, index=10):\n",
    "    df = pd.read_csv(file)\n",
    "    print(file)\n",
    "    return df.sort_values('meters')[-index:]"
   ]
  },
  {
   "cell_type": "code",
   "execution_count": 685,
   "metadata": {},
   "outputs": [],
   "source": [
    "from glob import glob\n",
    "reports = glob('/home/comp/18481086/code/nas/outputs/ea*_*large*/ver*/report.csv')"
   ]
  },
  {
   "cell_type": "code",
   "execution_count": 686,
   "metadata": {},
   "outputs": [
    {
     "name": "stdout",
     "output_type": "stream",
     "text": [
      "/home/comp/18481086/code/nas/outputs/ea_covidct_mnasnet3d_large/version_0/report.csv\n",
      "     epoch  idx    meters  flops(MFLOPS)    size(MB)\n",
      "713     76    3  0.942708     109.347328   33.527596\n",
      "611     66    1  0.947917     189.694464  100.388680\n",
      "/home/comp/18481086/code/nas/outputs/ea_ct_mnasnet3d_large/version_0/report.csv\n",
      "     epoch  idx    meters  flops(MFLOPS)   size(MB)\n",
      "789     83    9  0.853606     128.548608  52.478283\n",
      "782     83    2  0.853606     128.548608  52.478283\n",
      "/home/comp/18481086/code/nas/outputs/ea_ct_mnasnet3d_large/version_1/report.csv\n",
      "     epoch  idx    meters  flops(MFLOPS)   size(MB)\n",
      "94      14    4  0.801136    3807.579904  81.775772\n",
      "904     95    4  0.801136    3576.368896  42.632092\n",
      "/home/comp/18481086/code/nas/outputs/ea_ct_mnas_baseline_findlarge/version_0/report.csv\n",
      "      epoch  idx    meters  flops(MFLOPS)   size(MB)\n",
      "1597     90    7  0.739343      69.516032  20.583263\n",
      "1607     90   17  0.739343      69.294848  20.602947\n",
      "/home/comp/18481086/code/nas/outputs/ea_nni_mnasnet3d_large/version_0/report.csv\n",
      "     epoch  idx    meters  flops(MFLOPS)   size(MB)\n",
      "404     45    4  0.798611    4460.744704  95.162857\n",
      "229     27    9  0.805556    3341.029120  49.335217\n"
     ]
    }
   ],
   "source": [
    "for file in reports:\n",
    "    print(topk(file, 2))\n",
    "#     if 'cifar' not in file:\n",
    "#         print(topk(file, 2))"
   ]
  },
  {
   "cell_type": "code",
   "execution_count": 681,
   "metadata": {},
   "outputs": [
    {
     "data": {
      "text/plain": [
       "['/home/comp/18481086/code/nas/outputs/ea_covidct_mnas_small/version_0_retrain_0/best_0.772917_epoch133_fullmodel.pt',\n",
       " '/home/comp/18481086/code/nas/outputs/ea_covidct_mnas_small/version_0_retrain_1/best_0.843229_epoch129_fullmodel.pt',\n",
       " '/home/comp/18481086/code/nas/outputs/ea_covidct_mnas_small/version_0_retrain_2/best_0.895313_epoch190_fullmodel.pt',\n",
       " '/home/comp/18481086/code/nas/outputs/ea_covidct_mnas_small/version_0_retrain_3/best_0.910938_epoch166_fullmodel.pt',\n",
       " '/home/comp/18481086/code/nas/outputs/ea_ct_mnas_acceleration/version_0_retrain_0/best_0.886682_epoch186_fullmodel.pt',\n",
       " '/home/comp/18481086/code/nas/outputs/ea_ct_mnas_acceleration/version_0_retrain_1/best_0.887798_epoch198_fullmodel.pt',\n",
       " '/home/comp/18481086/code/nas/outputs/ea_ct_mnas_acceleration_accuracy/version_0_retrain_0/best_0.896131_epoch179_fullmodel.pt',\n",
       " '/home/comp/18481086/code/nas/outputs/ea_ct_mnas_acceleration_accuracy/version_0_retrain_1/best_0.812500_epoch7_fullmodel.pt',\n",
       " '/home/comp/18481086/code/nas/outputs/ea_ct_mnas_acceleration_accuracy/version_0_retrain_5/best_0.928646_epoch188_fullmodel.pt',\n",
       " '/home/comp/18481086/code/nas/outputs/ea_ct_mnas_baseline/version_0_retrain_0/best_0.896726_epoch198_fullmodel.pt',\n",
       " '/home/comp/18481086/code/nas/outputs/ea_ct_mnas_baseline_findlarge/version_0_retrain_0/best_0.879167_epoch197_fullmodel.pt',\n",
       " '/home/comp/18481086/code/nas/outputs/ea_ct_mnas_baseline_findsmall/version_0_retrain_0/best_0.893899_epoch62_fullmodel.pt',\n",
       " '/home/comp/18481086/code/nas/outputs/ea_ct_mnas_small/version_0_retrain_0/best_0.866426_epoch62_fullmodel.pt',\n",
       " '/home/comp/18481086/code/nas/outputs/ea_ct_mnas_small/version_0_retrain_1/best_0.926522_epoch196_fullmodel.pt',\n",
       " '/home/comp/18481086/code/nas/outputs/ea_ct_mnas_small/version_0_retrain_2/best_0.896314_epoch174_fullmodel.pt',\n",
       " '/home/comp/18481086/code/nas/outputs/ea_nii_mnas_small/version_0_retrain_0/best_0.815341_epoch59_fullmodel.pt',\n",
       " '/home/comp/18481086/code/nas/outputs/ea_nii_mnas_small/version_0_retrain_1/best_0.801136_epoch34_fullmodel.pt',\n",
       " '/home/comp/18481086/code/nas/outputs/ea_nii_mnas_small/version_0_retrain_2/best_0.815341_epoch59_fullmodel.pt',\n",
       " '/home/comp/18481086/code/nas/outputs/ea_nii_mnas_small/version_0_retrain_3/best_0.795455_epoch20_fullmodel.pt',\n",
       " '/home/comp/18481086/code/nas/outputs/ea_nii_mnas_small/version_0_retrain_4/best_0.798295_epoch27_fullmodel.pt']"
      ]
     },
     "execution_count": 681,
     "metadata": {},
     "output_type": "execute_result"
    }
   ],
   "source": [
    "from glob import glob\n",
    "glob('/home/comp/18481086/code/nas/outputs/ea*mnas_*/ver*/*best*full*')"
   ]
  },
  {
   "cell_type": "code",
   "execution_count": 231,
   "metadata": {},
   "outputs": [],
   "source": [
    "f = lambda x:x*1024*1024/4"
   ]
  },
  {
   "cell_type": "code",
   "execution_count": 238,
   "metadata": {},
   "outputs": [
    {
     "data": {
      "text/plain": [
       "14.410408020019531"
      ]
     },
     "execution_count": 238,
     "metadata": {},
     "output_type": "execute_result"
    }
   ],
   "source": [
    "f(5.4971344070509076e-05)"
   ]
  },
  {
   "cell_type": "code",
   "execution_count": 682,
   "metadata": {},
   "outputs": [
    {
     "data": {
      "text/plain": [
       "1.030452769478281"
      ]
     },
     "execution_count": 682,
     "metadata": {},
     "output_type": "execute_result"
    }
   ],
   "source": [
    "89.67/87.02"
   ]
  }
 ],
 "metadata": {
  "kernelspec": {
   "display_name": "Python 3",
   "language": "python",
   "name": "python3"
  },
  "language_info": {
   "codemirror_mode": {
    "name": "ipython",
    "version": 3
   },
   "file_extension": ".py",
   "mimetype": "text/x-python",
   "name": "python",
   "nbconvert_exporter": "python",
   "pygments_lexer": "ipython3",
   "version": "3.6.8"
  }
 },
 "nbformat": 4,
 "nbformat_minor": 4
}
